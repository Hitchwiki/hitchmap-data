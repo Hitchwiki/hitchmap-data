{
 "cells": [
  {
   "cell_type": "code",
   "execution_count": null,
   "id": "b3b3e3e9",
   "metadata": {},
   "outputs": [],
   "source": [
    "import requests\n",
    "\n",
    "url = \"https://raw.githubusercontent.com/Hitchwiki/hitchhiking-data-standard/refs/heads/main/python/python.py\"\n",
    "response = requests.get(url)\n",
    "\n",
    "with open(\"data_standard_pydantic_model.py\", \"w\") as f:\n",
    "    f.write(response.text)\n",
    "\n",
    "from data_standard_pydantic_model import *"
   ]
  },
  {
   "cell_type": "code",
   "execution_count": null,
   "id": "c08ed0d5",
   "metadata": {},
   "outputs": [],
   "source": [
    "import sqlite3\n",
    "import pandas as pd\n",
    "from tqdm import tqdm\n",
    "import os\n",
    "import wget\n",
    "from datasets import Dataset\n",
    "from huggingface_hub import login\n",
    "from dotenv import load_dotenv\n",
    "load_dotenv()\n",
    "\n",
    "pd.set_option('display.max_rows', None)\n",
    "pd.set_option('display.max_columns', None)\n",
    "pd.set_option('display.max_colwidth', None) \n"
   ]
  },
  {
   "cell_type": "markdown",
   "id": "da1939de",
   "metadata": {},
   "source": [
    "# Migrate the dataset obtained from hitchmap.com and publish it to huggingface"
   ]
  },
  {
   "cell_type": "code",
   "execution_count": null,
   "id": "18c8d586",
   "metadata": {},
   "outputs": [],
   "source": [
    "url = 'https://hitchmap.com/dump.sqlite'\n",
    "filename = 'dump.sqlite'\n",
    "if os.path.exists(filename):\n",
    "        os.remove(filename)\n",
    "filename = wget.download(url)"
   ]
  },
  {
   "cell_type": "code",
   "execution_count": null,
   "id": "00435302",
   "metadata": {},
   "outputs": [],
   "source": [
    "fn = 'dump.sqlite'\n",
    "points = pd.read_sql('select * from points where not banned', sqlite3.connect(fn))\n",
    "points[\"datetime\"] = points[\"datetime\"].astype(\"datetime64[ns]\")\n",
    "\n",
    "# cleaning\n",
    "points[\"ride_datetime\"].replace(\"0224-10-31T21:30\", None, inplace=True)\n",
    "points[\"ride_datetime\"].replace(\"0025-03-07T08:00\", None, inplace=True)\n",
    "points[\"ride_datetime\"].replace(\"1014-11-04T14:30\", None, inplace=True)\n",
    "points[\"ride_datetime\"].replace(\"0202-04-03T18:50\", None, inplace=True)\n",
    "\n",
    "points[\"ride_datetime\"] = points[\"ride_datetime\"].astype(\"datetime64[ns]\")\n",
    "len(points)"
   ]
  },
  {
   "cell_type": "code",
   "execution_count": null,
   "id": "64c37307",
   "metadata": {},
   "outputs": [],
   "source": [
    "points.head()"
   ]
  },
  {
   "cell_type": "code",
   "execution_count": null,
   "id": "606cb54b",
   "metadata": {},
   "outputs": [],
   "source": [
    "no_date = points[points[\"datetime\"].isna()]\n",
    "with_date = points[~points[\"datetime\"].isna()]\n",
    "\n",
    "lift = pd.concat([no_date, with_date[with_date[\"datetime\"] < \"2010-08-11\"]])\n",
    "\n",
    "wiki = with_date[(with_date[\"datetime\"] >= \"2010-08-11\") & (with_date[\"datetime\"] < \"2022-10-13\")]\n",
    "\n",
    "map = with_date[with_date[\"datetime\"] >= \"2022-10-13\"]"
   ]
  },
  {
   "cell_type": "code",
   "execution_count": null,
   "id": "6163b643",
   "metadata": {},
   "outputs": [],
   "source": [
    "len(lift), len(wiki), len(map), len(lift) + len(wiki) + len(map)"
   ]
  },
  {
   "cell_type": "code",
   "execution_count": null,
   "id": "7de3bfb0",
   "metadata": {},
   "outputs": [],
   "source": [
    "def map_signal(signal: str) -> Signal:\n",
    "    if not signal:\n",
    "        return None\n",
    "\n",
    "    if signal == \"sign\":\n",
    "        return Signal(\n",
    "            methods=[\"sign\"],\n",
    "        )\n",
    "    elif signal == \"thumb\":\n",
    "        return Signal(\n",
    "            methods=[\"thumb\"],\n",
    "        )\n",
    "    elif signal == \"ask\":\n",
    "        return Signal(\n",
    "            methods=[\"asking\"],\n",
    "        )\n",
    "    elif signal == \"ask-sign\":\n",
    "        return Signal(\n",
    "            methods=[\"asking\", \"sign\"],\n",
    "        )\n",
    "    else:\n",
    "        return None\n",
    "\n",
    "\n",
    "def create_record_from_row(row: pd.Series, source: str, license: str, rating_formula= lambda x: x) -> HitchhikingRecord:\n",
    "    stops = [\n",
    "        Stop(\n",
    "            location=Location(latitude=row[\"lat\"], longitude=row[\"lon\"], is_exact=True),\n",
    "            arrival_time=row[\"ride_datetime\"].strftime(\"%Y-%m-%dT%H:%M:%S\") if pd.notna(row[\"ride_datetime\"]) else None,\n",
    "            departure_time=(row[\"ride_datetime\"] + pd.to_timedelta(row[\"wait\"], unit=\"m\")).strftime(\n",
    "                \"%Y-%m-%dT%H:%M:%S\"\n",
    "            )\n",
    "            if pd.notna(row[\"ride_datetime\"]) and pd.notna(row[\"wait\"])\n",
    "            else None,\n",
    "            waiting_duration=f\"{int(row['wait'])}M\" if pd.notna(row[\"wait\"]) else None,\n",
    "        ),\n",
    "    ]\n",
    "    if pd.notna(row[\"dest_lat\"]) and pd.notna(row[\"dest_lon\"]):\n",
    "        stops.append(Stop(location=Location(latitude=row[\"dest_lat\"], longitude=row[\"dest_lon\"], is_exact=False)))\n",
    "\n",
    "    entry = HitchhikingRecord(\n",
    "        stops=stops,\n",
    "        rating=rating_formula(row[\"rating\"]),\n",
    "        hitchhikers=[\n",
    "            Hitchhiker(\n",
    "                nickname=row[\"nickname\"],\n",
    "            )\n",
    "        ],\n",
    "        comment=row[\"comment\"],\n",
    "        signals=[map_signal(row[\"signal\"])] if row[\"signal\"] else None,\n",
    "        occupants=None,\n",
    "        mode_of_transportation=None,\n",
    "        ride=None,\n",
    "        declined_rides=None,\n",
    "        source=source,  # \"hitchmap.com\"\n",
    "        license=license,  # \"odbl\"\n",
    "        submission_time=row[\"datetime\"].strftime(\"%Y-%m-%dT%H:%M:%S\") if pd.notna(row[\"datetime\"]) else None,\n",
    "    )\n",
    "\n",
    "    return entry"
   ]
  },
  {
   "cell_type": "code",
   "execution_count": null,
   "id": "c38e28c2",
   "metadata": {},
   "outputs": [],
   "source": [
    "entries = []\n",
    "\n",
    "for _, row in tqdm(lift.iterrows(), total=len(lift)):\n",
    "    entries.append(\n",
    "        create_record_from_row(\n",
    "            row,\n",
    "            source=\"liftershalte.info\",\n",
    "            license=\"cc-by-sa-4.0\",\n",
    "        )\n",
    "    )\n",
    "\n",
    "for _, row in tqdm(wiki.iterrows(), total=len(wiki)):\n",
    "    entries.append(\n",
    "        create_record_from_row(\n",
    "            row,\n",
    "            source=\"hitchwiki.org\",\n",
    "            license=\"cc-by-sa-4.0\",\n",
    "        )\n",
    "    )\n",
    "\n",
    "for _, row in tqdm(map.iterrows(), total=len(map)):\n",
    "    entries.append(\n",
    "        create_record_from_row(\n",
    "            row,\n",
    "            source=\"hitchmap.com\",\n",
    "            license=\"odbl\",\n",
    "        )\n",
    "    )"
   ]
  },
  {
   "cell_type": "code",
   "execution_count": null,
   "id": "2bbe351c",
   "metadata": {},
   "outputs": [],
   "source": [
    "entries.reverse()"
   ]
  },
  {
   "cell_type": "code",
   "execution_count": null,
   "id": "cc1fcebe",
   "metadata": {},
   "outputs": [],
   "source": [
    "print(entries[0].model_dump_json(indent=2, exclude_none=True))"
   ]
  },
  {
   "cell_type": "code",
   "execution_count": null,
   "id": "b45072e9",
   "metadata": {},
   "outputs": [],
   "source": [
    "entries_dicts = [entry.model_dump(exclude_none=False, by_alias=True) for entry in entries]"
   ]
  },
  {
   "cell_type": "code",
   "execution_count": null,
   "id": "95bf5644",
   "metadata": {},
   "outputs": [],
   "source": [
    "entries_dicts[:10]"
   ]
  },
  {
   "cell_type": "code",
   "execution_count": null,
   "id": "c212958d",
   "metadata": {},
   "outputs": [],
   "source": [
    "huggingface_df = pd.DataFrame(entries_dicts)"
   ]
  },
  {
   "cell_type": "code",
   "execution_count": null,
   "id": "76e85e90",
   "metadata": {},
   "outputs": [],
   "source": [
    "HF_TOKEN = os.getenv(\"HF_TOKEN\")\n",
    "\n",
    "# 1. Log in to Hugging Face (use your token from https://huggingface.co/settings/tokens)\n",
    "login(token=HF_TOKEN)\n",
    "\n",
    "hf_dataset = Dataset.from_pandas(huggingface_df)\n",
    "\n",
    "# 3. Push to Hugging Face Hub\n",
    "hf_dataset.push_to_hub(\"Hitchwiki/hitchhiking-rides-dataset\")"
   ]
  }
 ],
 "metadata": {
  "kernelspec": {
   "display_name": "hitchhiking-data",
   "language": "python",
   "name": "python3"
  },
  "language_info": {
   "codemirror_mode": {
    "name": "ipython",
    "version": 3
   },
   "file_extension": ".py",
   "mimetype": "text/x-python",
   "name": "python",
   "nbconvert_exporter": "python",
   "pygments_lexer": "ipython3",
   "version": "3.10.18"
  }
 },
 "nbformat": 4,
 "nbformat_minor": 5
}
